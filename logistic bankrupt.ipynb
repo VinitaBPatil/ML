{
 "cells": [
  {
   "cell_type": "markdown",
   "metadata": {},
   "source": [
    "# Bankruptcy Dataset :Logistic Regression"
   ]
  },
  {
   "cell_type": "markdown",
   "metadata": {},
   "source": [
    "## k fold cross validation"
   ]
  },
  {
   "cell_type": "code",
   "execution_count": 6,
   "metadata": {},
   "outputs": [],
   "source": [
    "import pandas as pd\n",
    "bank=pd.read_csv(\"D:/r python/machine learning/data/Bankruptcy.csv\")\n",
    "bank.head()\n",
    "import warnings;warnings.simplefilter('ignore')"
   ]
  },
  {
   "cell_type": "code",
   "execution_count": 4,
   "metadata": {},
   "outputs": [],
   "source": [
    "X = bank.iloc[:,2:27]\n",
    "y = bank.iloc[:,1]\n",
    "\n",
    "from sklearn.linear_model import LogisticRegression\n",
    "\n",
    "from sklearn.model_selection import StratifiedKFold\n",
    "from sklearn.model_selection import cross_val_score\n",
    "\n",
    "logreg = LogisticRegression()\n",
    "\n",
    "kfold = StratifiedKFold(n_splits=5, random_state=42)"
   ]
  },
  {
   "cell_type": "code",
   "execution_count": 8,
   "metadata": {},
   "outputs": [
    {
     "name": "stdout",
     "output_type": "stream",
     "text": [
      "[0.85714286 0.80769231 0.80769231 0.80769231 0.80769231]\n",
      "Accuracy: 81.76% (1.98%)\n"
     ]
    }
   ],
   "source": [
    "results = cross_val_score(logreg, X, y, cv=kfold, scoring='accuracy')\n",
    "print(results)\n",
    "print(\"Accuracy: %.2f%% (%.2f%%)\" % (results.mean()*100, results.std()*100))\n"
   ]
  },
  {
   "cell_type": "code",
   "execution_count": 10,
   "metadata": {},
   "outputs": [
    {
     "name": "stdout",
     "output_type": "stream",
     "text": [
      "[0.86734694 0.88757396 0.8816568  0.84023669 0.89349112]\n",
      "ROC AUC: 87.41% (1.90%)\n"
     ]
    }
   ],
   "source": [
    "results = cross_val_score(logreg, X, y, cv=kfold, scoring='roc_auc')\n",
    "print(results)\n",
    "print(\"ROC AUC: %.2f%% (%.2f%%)\" % (results.mean()*100, results.std()*100))\n"
   ]
  },
  {
   "cell_type": "markdown",
   "metadata": {},
   "source": [
    "## L1"
   ]
  },
  {
   "cell_type": "markdown",
   "metadata": {},
   "source": [
    "### Accuracy Optimize for C"
   ]
  },
  {
   "cell_type": "code",
   "execution_count": 19,
   "metadata": {},
   "outputs": [
    {
     "name": "stdout",
     "output_type": "stream",
     "text": [
      "Best Accuracy 0.8181818181818182\n",
      "Best Parameter {'C': 1.5}\n"
     ]
    }
   ],
   "source": [
    "import numpy as np\n",
    "from sklearn.model_selection import GridSearchCV\n",
    "c_space = np.array([0.01,0.1,0.25,0.3,0.5,0.6,0.7,0.9,1,1.1,1.2,1.5])\n",
    "param_grid = {'C': c_space}\n",
    "\n",
    "logreg = LogisticRegression(penalty='l1')\n",
    "logreg_cv = GridSearchCV(logreg, param_grid, cv=5)\n",
    "logreg_cv.fit(X,y)\n",
    "\n",
    "print(\"Best Accuracy\",logreg_cv.best_score_)\n",
    "print(\"Best Parameter\",logreg_cv.best_params_)"
   ]
  },
  {
   "cell_type": "markdown",
   "metadata": {},
   "source": [
    "### AUC Optimize for C"
   ]
  },
  {
   "cell_type": "code",
   "execution_count": 20,
   "metadata": {},
   "outputs": [
    {
     "name": "stdout",
     "output_type": "stream",
     "text": [
      "Best Accuracy 0.8681318681318682\n",
      "Best Parameter {'C': 1.2}\n"
     ]
    }
   ],
   "source": [
    "logreg_cv = GridSearchCV(logreg, param_grid, cv=5,scoring='roc_auc')\n",
    "logreg_cv.fit(X,y)\n",
    "\n",
    "print(\"Best Accuracy\",logreg_cv.best_score_)\n",
    "print(\"Best Parameter\",logreg_cv.best_params_)"
   ]
  },
  {
   "cell_type": "markdown",
   "metadata": {},
   "source": [
    "## L2"
   ]
  },
  {
   "cell_type": "code",
   "execution_count": 21,
   "metadata": {},
   "outputs": [
    {
     "name": "stdout",
     "output_type": "stream",
     "text": [
      "Best Accuracy 0.8257575757575758\n",
      "Best Parameter {'C': 0.25}\n"
     ]
    }
   ],
   "source": [
    "logreg = LogisticRegression(penalty='l2')\n",
    "logreg_cv = GridSearchCV(logreg, param_grid, cv=5)\n",
    "logreg_cv.fit(X,y)\n",
    "\n",
    "print(\"Best Accuracy\",logreg_cv.best_score_)\n",
    "print(\"Best Parameter\",logreg_cv.best_params_)"
   ]
  },
  {
   "cell_type": "markdown",
   "metadata": {},
   "source": [
    "### AUC Optimize for C "
   ]
  },
  {
   "cell_type": "code",
   "execution_count": 22,
   "metadata": {},
   "outputs": [
    {
     "name": "stdout",
     "output_type": "stream",
     "text": [
      "Best Accuracy 0.8784548784548786\n",
      "Best Parameter {'C': 0.3}\n"
     ]
    }
   ],
   "source": [
    "logreg_cv = GridSearchCV(logreg, param_grid, cv=5,scoring='roc_auc')\n",
    "logreg_cv.fit(X,y)\n",
    "\n",
    "print(\"Best Accuracy\",logreg_cv.best_score_)\n",
    "print(\"Best Parameter\",logreg_cv.best_params_)"
   ]
  }
 ],
 "metadata": {
  "kernelspec": {
   "display_name": "Python 3",
   "language": "python",
   "name": "python3"
  },
  "language_info": {
   "codemirror_mode": {
    "name": "ipython",
    "version": 3
   },
   "file_extension": ".py",
   "mimetype": "text/x-python",
   "name": "python",
   "nbconvert_exporter": "python",
   "pygments_lexer": "ipython3",
   "version": "3.7.1"
  }
 },
 "nbformat": 4,
 "nbformat_minor": 2
}
